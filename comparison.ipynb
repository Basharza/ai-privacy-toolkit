{
 "cells": [
  {
   "cell_type": "markdown",
   "source": [
    "Load and prepare data:"
   ],
   "metadata": {
    "collapsed": false,
    "pycharm": {
     "name": "#%% md\n"
    }
   }
  },
  {
   "cell_type": "code",
   "execution_count": 47,
   "outputs": [],
   "source": [
    "from data_minimization_benchmark.datapreparers import GSSDataPreparer\n",
    "\n",
    "gss_data = GSSDataPreparer().prepare()"
   ],
   "metadata": {
    "collapsed": false,
    "pycharm": {
     "name": "#%%\n"
    }
   }
  },
  {
   "cell_type": "markdown",
   "source": [
    "Now create and train target classifier models:"
   ],
   "metadata": {
    "collapsed": false,
    "pycharm": {
     "name": "#%% md\n"
    }
   }
  },
  {
   "cell_type": "code",
   "execution_count": 48,
   "outputs": [],
   "source": [
    "from sklearn.ensemble import RandomForestClassifier\n",
    "\n",
    "random_forest = RandomForestClassifier(random_state=14)\n",
    "random_forest.fit(*gss_data.encoded_data.model_train)\n",
    "\n",
    "target_models = {\"Random Forest\": random_forest}"
   ],
   "metadata": {
    "collapsed": false,
    "pycharm": {
     "name": "#%%\n"
    }
   }
  },
  {
   "cell_type": "markdown",
   "source": [
    "Create and fit SHAP minimizer to get the shap order of the features. Or use precalculated order:"
   ],
   "metadata": {
    "collapsed": false,
    "pycharm": {
     "name": "#%% md\n"
    }
   }
  },
  {
   "cell_type": "code",
   "execution_count": 49,
   "outputs": [
    {
     "data": {
      "text/plain": "['Race', 'Gender', 'X_rated', 'Children', 'Work status', 'Age', 'Happiness']",
      "text/html": "['Race', 'Gender', 'X_rated', 'Children', 'Work status', 'Age', 'Happiness']"
     },
     "execution_count": 49,
     "metadata": {},
     "output_type": "execute_result"
    }
   ],
   "source": [
    "from apt.minimization import ShapMinimizer, OrderedFeatureMinimizer, GeneralizeToRepresentative\n",
    "shap_ordered_features = None\n",
    "shap_ordered_features = ['Race', 'Gender', 'X_rated', 'Children', 'Work status', 'Age', 'Happiness']\n",
    "\n",
    "if shap_ordered_features is None:\n",
    "    shap_minimizer = ShapMinimizer(\n",
    "        random_forest, gss_data.encoder,\n",
    "        categorical_features=gss_data.categorical_features,\n",
    "        target_accuracy=1,\n",
    "        background_size=20,\n",
    "        n_samples=70,\n",
    "        random_state=14\n",
    "    )\n",
    "    shap_ordered_features = shap_minimizer.ordered_shap_features\n",
    "    shap_minimizer.fit(*gss_data.unencoded_data.generalizer_train)\n",
    "shap_ordered_features"
   ],
   "metadata": {
    "collapsed": false,
    "pycharm": {
     "name": "#%%\n"
    }
   }
  },
  {
   "cell_type": "markdown",
   "source": [
    "Run benchmark on SHAP ordered minimizer"
   ],
   "metadata": {
    "collapsed": false,
    "pycharm": {
     "name": "#%% md\n"
    }
   }
  },
  {
   "cell_type": "code",
   "execution_count": 50,
   "outputs": [],
   "source": [
    "from data_minimization_benchmark.benchmark import Benchmark\n",
    "from data_minimization_benchmark.utils.Plotter import Plotter\n",
    "\n",
    "import numpy as np\n",
    "target_accuracies = np.arange(0, 1, 0.1,)"
   ],
   "metadata": {
    "collapsed": false,
    "pycharm": {
     "name": "#%%\n"
    }
   }
  },
  {
   "cell_type": "code",
   "execution_count": 51,
   "outputs": [],
   "source": [
    "def create_shap_minimizer(*args, **kwargs):\n",
    "    return OrderedFeatureMinimizer(*args, **kwargs, ordered_features=shap_ordered_features,\n",
    "                                       data_encoder=gss_data.encoder, random_state=14)\n",
    "shap_ordered_benchmark = Benchmark(\n",
    "    # generalizer=OrderedFeatureMinimizer(random_forest, data_encoder=gss_data._encoder,\n",
    "    #                                 categorical_features=gss_data.categorical_features,\n",
    "    #                                 target_accuracy=0.8, ordered_features=ordered_shap_features),\n",
    "    generalizer=create_shap_minimizer,\n",
    "    train_set=gss_data.unencoded_data.generalizer_train,\n",
    "    test_set=gss_data.unencoded_data.generalizer_validation,\n",
    "    models=target_models,\n",
    "    transformer=gss_data.encoder,\n",
    "    target_accuracies=target_accuracies,\n",
    "    features=gss_data.all_features,\n",
    "    categorical_features=gss_data.categorical_features,\n",
    ")\n",
    "shap_benchmark_result = shap_ordered_benchmark.run()"
   ],
   "metadata": {
    "collapsed": false,
    "pycharm": {
     "name": "#%%\n"
    }
   }
  },
  {
   "cell_type": "code",
   "execution_count": 52,
   "outputs": [
    {
     "name": "stdout",
     "output_type": "stream",
     "text": [
      "Random Forest results:\n"
     ]
    },
    {
     "data": {
      "text/plain": "<Figure size 576x288 with 2 Axes>",
      "image/png": "[encoded data removed]"
     },
     "metadata": {
      "needs_background": "light"
     },
     "output_type": "display_data"
    }
   ],
   "source": [
    "plotter = Plotter(results={\"Shap Minimizer\": shap_benchmark_result}, target_accuracies=target_accuracies, dataset=\"GSS\")\n",
    "for model in target_models:\n",
    "    print(f\"{model} results:\")\n",
    "    plotter.plot(model)"
   ],
   "metadata": {
    "collapsed": false,
    "pycharm": {
     "name": "#%%\n"
    }
   }
  },
  {
   "cell_type": "code",
   "execution_count": null,
   "outputs": [
    {
     "name": "stdout",
     "output_type": "stream",
     "text": [
      "Initial accuracy of model on generalized data, relative to original model predictions (base generalization derived from tree, before improvements): 0.808859\n",
      "Improving generalizations\n",
      "Pruned tree to level: 1, new relative accuracy: 0.808518\n",
      "Pruned tree to level: 2, new relative accuracy: 0.807836\n",
      "Pruned tree to level: 3, new relative accuracy: 0.807836\n",
      "Pruned tree to level: 4, new relative accuracy: 0.806474\n",
      "Pruned tree to level: 5, new relative accuracy: 0.806133\n",
      "Pruned tree to level: 6, new relative accuracy: 0.801363\n",
      "Pruned tree to level: 7, new relative accuracy: 0.798637\n",
      "Pruned tree to level: 8, new relative accuracy: 0.794889\n",
      "Pruned tree to level: 9, new relative accuracy: 0.790119\n",
      "Pruned tree to level: 10, new relative accuracy: 0.779216\n",
      "Pruned tree to level: 11, new relative accuracy: 0.776491\n",
      "Pruned tree to level: 12, new relative accuracy: 0.772743\n",
      "Pruned tree to level: 13, new relative accuracy: 0.755026\n",
      "Pruned tree to level: 14, new relative accuracy: 0.762862\n",
      "Pruned tree to level: 15, new relative accuracy: 0.755366\n",
      "Pruned tree to level: 16, new relative accuracy: 0.752981\n",
      "Pruned tree to level: 17, new relative accuracy: 0.751959\n",
      "Pruned tree to level: 18, new relative accuracy: 0.747871\n",
      "Pruned tree to level: 19, new relative accuracy: 0.746508\n",
      "Pruned tree to level: 20, new relative accuracy: 0.739693\n",
      "Pruned tree to level: 21, new relative accuracy: 0.705963\n",
      "Pruned tree to level: 22, new relative accuracy: 0.703578\n",
      "Pruned tree to level: 23, new relative accuracy: 0.700511\n",
      "Pruned tree to level: 24, new relative accuracy: 0.700511\n",
      "Pruned tree to level: 25, new relative accuracy: 0.691312\n",
      "Pruned tree to level: 26, new relative accuracy: 0.653492\n",
      "(\"Illegal level %d' % level\", 27)\n",
      "Initial accuracy of model on generalized data, relative to original model predictions (base generalization derived from tree, before improvements): 0.808859\n",
      "Improving generalizations\n",
      "Pruned tree to level: 1, new relative accuracy: 0.808518\n",
      "Pruned tree to level: 2, new relative accuracy: 0.807836\n",
      "Pruned tree to level: 3, new relative accuracy: 0.807836\n",
      "Pruned tree to level: 4, new relative accuracy: 0.806474\n",
      "Pruned tree to level: 5, new relative accuracy: 0.806133\n",
      "Pruned tree to level: 6, new relative accuracy: 0.801363\n",
      "Pruned tree to level: 7, new relative accuracy: 0.798637\n",
      "Pruned tree to level: 8, new relative accuracy: 0.794889\n",
      "Pruned tree to level: 9, new relative accuracy: 0.790119\n"
     ]
    }
   ],
   "source": [
    "    def single_dt_maker(*args, **kwargs):\n",
    "        return GeneralizeToRepresentative(*args, **kwargs, encoder=gss_data.encoder)\n",
    "\n",
    "    benchmark3 = Benchmark(\n",
    "\n",
    "        generalizer=GeneralizeToRepresentative,\n",
    "        train_set=gss_data.unencoded_data.generalizer_train,\n",
    "        test_set=gss_data.unencoded_data.generalizer_validation,\n",
    "        models=target_models,\n",
    "        transformer=gss_data.encoder,\n",
    "        target_accuracies=target_accuracies,\n",
    "        features=gss_data.all_features,\n",
    "        categorical_features=gss_data.categorical_features,\n",
    "    )\n",
    "    res3 = benchmark3.run()\n",
    "    res3"
   ],
   "metadata": {
    "collapsed": false,
    "pycharm": {
     "name": "#%%\n",
     "is_executing": true
    }
   }
  },
  {
   "cell_type": "code",
   "execution_count": null,
   "outputs": [],
   "source": [
    "print(res3)"
   ],
   "metadata": {
    "collapsed": false,
    "pycharm": {
     "name": "#%%\n",
     "is_executing": true
    }
   }
  },
  {
   "cell_type": "code",
   "execution_count": null,
   "outputs": [],
   "source": [],
   "metadata": {
    "collapsed": false,
    "pycharm": {
     "name": "#%%\n",
     "is_executing": true
    }
   }
  }
 ],
 "metadata": {
  "kernelspec": {
   "display_name": "Python 3",
   "language": "python",
   "name": "python3"
  },
  "language_info": {
   "codemirror_mode": {
    "name": "ipython",
    "version": 2
   },
   "file_extension": ".py",
   "mimetype": "text/x-python",
   "name": "python",
   "nbconvert_exporter": "python",
   "pygments_lexer": "ipython2",
   "version": "2.7.6"
  }
 },
 "nbformat": 4,
 "nbformat_minor": 0
}