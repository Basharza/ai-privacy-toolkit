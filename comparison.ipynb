{
 "cells": [
  {
   "cell_type": "markdown",
   "source": [
    "Load and prepare data:"
   ],
   "metadata": {
    "collapsed": false,
    "pycharm": {
     "name": "#%% md\n"
    }
   }
  },
  {
   "cell_type": "code",
   "execution_count": null,
   "outputs": [],
   "source": [
    "from data_minimization_benchmark.datapreparers import GSSDataPreparer\n",
    "\n",
    "gss_data = GSSDataPreparer().prepare()"
   ],
   "metadata": {
    "collapsed": false,
    "pycharm": {
     "name": "#%%\n"
    }
   }
  },
  {
   "cell_type": "markdown",
   "source": [
    "Now create and train target classifier models:"
   ],
   "metadata": {
    "collapsed": false,
    "pycharm": {
     "name": "#%% md\n"
    }
   }
  },
  {
   "cell_type": "code",
   "execution_count": null,
   "outputs": [],
   "source": [
    "from sklearn.ensemble import RandomForestClassifier\n",
    "\n",
    "random_forest = RandomForestClassifier(random_state=14)\n",
    "random_forest.fit(*gss_data.encoded_data.model_train)\n",
    "\n",
    "target_models = {\"Random Forest\": random_forest}"
   ],
   "metadata": {
    "collapsed": false,
    "pycharm": {
     "name": "#%%\n"
    }
   }
  },
  {
   "cell_type": "markdown",
   "source": [
    "Create and fit SHAP minimizer to get the shap order of the features. Or use precalculated order:"
   ],
   "metadata": {
    "collapsed": false,
    "pycharm": {
     "name": "#%% md\n"
    }
   }
  },
  {
   "cell_type": "code",
   "execution_count": null,
   "outputs": [
    {
     "name": "stderr",
     "output_type": "stream",
     "text": [
      "C:\\Users\\Mew\\anaconda3\\envs\\apt36\\lib\\site-packages\\tensorboard\\compat\\tensorflow_stub\\dtypes.py:541: FutureWarning: Passing (type, 1) or '1type' as a synonym of type is deprecated; in a future version of numpy, it will be understood as (type, (1,)) / '(1,)type'.\n",
      "  _np_qint8 = np.dtype([(\"qint8\", np.int8, 1)])\n",
      "C:\\Users\\Mew\\anaconda3\\envs\\apt36\\lib\\site-packages\\tensorboard\\compat\\tensorflow_stub\\dtypes.py:542: FutureWarning: Passing (type, 1) or '1type' as a synonym of type is deprecated; in a future version of numpy, it will be understood as (type, (1,)) / '(1,)type'.\n",
      "  _np_quint8 = np.dtype([(\"quint8\", np.uint8, 1)])\n",
      "C:\\Users\\Mew\\anaconda3\\envs\\apt36\\lib\\site-packages\\tensorboard\\compat\\tensorflow_stub\\dtypes.py:543: FutureWarning: Passing (type, 1) or '1type' as a synonym of type is deprecated; in a future version of numpy, it will be understood as (type, (1,)) / '(1,)type'.\n",
      "  _np_qint16 = np.dtype([(\"qint16\", np.int16, 1)])\n",
      "C:\\Users\\Mew\\anaconda3\\envs\\apt36\\lib\\site-packages\\tensorboard\\compat\\tensorflow_stub\\dtypes.py:544: FutureWarning: Passing (type, 1) or '1type' as a synonym of type is deprecated; in a future version of numpy, it will be understood as (type, (1,)) / '(1,)type'.\n",
      "  _np_quint16 = np.dtype([(\"quint16\", np.uint16, 1)])\n",
      "C:\\Users\\Mew\\anaconda3\\envs\\apt36\\lib\\site-packages\\tensorboard\\compat\\tensorflow_stub\\dtypes.py:545: FutureWarning: Passing (type, 1) or '1type' as a synonym of type is deprecated; in a future version of numpy, it will be understood as (type, (1,)) / '(1,)type'.\n",
      "  _np_qint32 = np.dtype([(\"qint32\", np.int32, 1)])\n",
      "C:\\Users\\Mew\\anaconda3\\envs\\apt36\\lib\\site-packages\\tensorboard\\compat\\tensorflow_stub\\dtypes.py:550: FutureWarning: Passing (type, 1) or '1type' as a synonym of type is deprecated; in a future version of numpy, it will be understood as (type, (1,)) / '(1,)type'.\n",
      "  np_resource = np.dtype([(\"resource\", np.ubyte, 1)])\n"
     ]
    },
    {
     "data": {
      "text/plain": "['Race', 'Gender', 'X_rated', 'Children', 'Work status', 'Age', 'Happiness']",
      "text/html": "['Race', 'Gender', 'X_rated', 'Children', 'Work status', 'Age', 'Happiness']"
     },
     "execution_count": 3,
     "metadata": {},
     "output_type": "execute_result"
    }
   ],
   "source": [
    "from apt.minimization import ShapMinimizer, OrderedFeatureMinimizer, GeneralizeToRepresentative\n",
    "shap_ordered_features = None\n",
    "shap_ordered_features = ['Race', 'Gender', 'X_rated', 'Children', 'Work status', 'Age', 'Happiness']\n",
    "\n",
    "if shap_ordered_features is None:\n",
    "    shap_minimizer = ShapMinimizer(\n",
    "        random_forest, gss_data.encoder,\n",
    "        categorical_features=gss_data.categorical_features,\n",
    "        target_accuracy=1,\n",
    "        background_size=20,\n",
    "        n_samples=70,\n",
    "        random_state=14\n",
    "    )\n",
    "    shap_ordered_features = shap_minimizer.ordered_shap_features\n",
    "    shap_minimizer.fit(*gss_data.unencoded_data.generalizer_train)\n",
    "shap_ordered_features"
   ],
   "metadata": {
    "collapsed": false,
    "pycharm": {
     "name": "#%%\n"
    }
   }
  },
  {
   "cell_type": "markdown",
   "source": [
    "Run benchmark on SHAP ordered minimizer"
   ],
   "metadata": {
    "collapsed": false,
    "pycharm": {
     "name": "#%% md\n"
    }
   }
  },
  {
   "cell_type": "code",
   "execution_count": null,
   "outputs": [],
   "source": [
    "from data_minimization_benchmark.benchmark import Benchmark\n",
    "from data_minimization_benchmark.utils.Plotter import Plotter\n",
    "\n",
    "import numpy as np\n",
    "target_accuracies = np.arange(0, 1, 0.1,)"
   ],
   "metadata": {
    "collapsed": false,
    "pycharm": {
     "name": "#%%\n"
    }
   }
  },
  {
   "cell_type": "code",
   "execution_count": null,
   "outputs": [],
   "source": [
    "def create_shap_minimizer(*args, **kwargs):\n",
    "    return OrderedFeatureMinimizer(*args, **kwargs, ordered_features=shap_ordered_features,\n",
    "                                       data_encoder=gss_data.encoder, random_state=14)\n",
    "shap_ordered_benchmark = Benchmark(\n",
    "    # generalizer=OrderedFeatureMinimizer(random_forest, data_encoder=gss_data._encoder,\n",
    "    #                                 categorical_features=gss_data.categorical_features,\n",
    "    #                                 target_accuracy=0.8, ordered_features=ordered_shap_features),\n",
    "    generalizer=create_shap_minimizer,\n",
    "    train_set=gss_data.unencoded_data.generalizer_train,\n",
    "    test_set=gss_data.unencoded_data.generalizer_validation,\n",
    "    models=target_models,\n",
    "    transformer=gss_data.encoder,\n",
    "    target_accuracies=target_accuracies,\n",
    "    features=gss_data.all_features,\n",
    "    categorical_features=gss_data.categorical_features,\n",
    ")\n",
    "shap_benchmark_result = shap_ordered_benchmark.run()"
   ],
   "metadata": {
    "collapsed": false,
    "pycharm": {
     "name": "#%%\n"
    }
   }
  },
  {
   "cell_type": "code",
   "execution_count": null,
   "outputs": [
    {
     "name": "stdout",
     "output_type": "stream",
     "text": [
      "Random Forest results:\n"
     ]
    },
    {
     "data": {
      "text/plain": "<Figure size 576x288 with 2 Axes>",
      "image/png": "[encoded data removed]"
     },
     "metadata": {
      "needs_background": "light"
     },
     "output_type": "display_data"
    }
   ],
   "source": [
    "plotter = Plotter(results={\"Shap Minimizer\": shap_benchmark_result}, target_accuracies=target_accuracies, dataset=\"GSS\")\n",
    "for model in target_models:\n",
    "    print(f\"{model} results:\")\n",
    "    plotter.plot(model)"
   ],
   "metadata": {
    "collapsed": false,
    "pycharm": {
     "name": "#%%\n"
    }
   }
  },
  {
   "cell_type": "code",
   "execution_count": null,
   "outputs": [
    {
     "name": "stdout",
     "output_type": "stream",
     "text": [
      "Initial accuracy of model on generalized data, relative to original model predictions (base generalization derived from tree, before improvements): 0.808859\n",
      "Improving generalizations\n",
      "Pruned tree to level: 1, new relative accuracy: 0.808518\n",
      "Pruned tree to level: 2, new relative accuracy: 0.807836\n",
      "Pruned tree to level: 3, new relative accuracy: 0.807836\n",
      "Pruned tree to level: 4, new relative accuracy: 0.806474\n",
      "Pruned tree to level: 5, new relative accuracy: 0.806133\n",
      "Pruned tree to level: 6, new relative accuracy: 0.801363\n",
      "Pruned tree to level: 7, new relative accuracy: 0.798637\n",
      "Pruned tree to level: 8, new relative accuracy: 0.794889\n",
      "Pruned tree to level: 9, new relative accuracy: 0.790119\n",
      "Pruned tree to level: 10, new relative accuracy: 0.779216\n",
      "Pruned tree to level: 11, new relative accuracy: 0.776491\n",
      "Pruned tree to level: 12, new relative accuracy: 0.772743\n",
      "Pruned tree to level: 13, new relative accuracy: 0.755026\n",
      "Pruned tree to level: 14, new relative accuracy: 0.762862\n",
      "Pruned tree to level: 15, new relative accuracy: 0.755366\n",
      "Pruned tree to level: 16, new relative accuracy: 0.752981\n",
      "Pruned tree to level: 17, new relative accuracy: 0.751959\n",
      "Pruned tree to level: 18, new relative accuracy: 0.747871\n",
      "Pruned tree to level: 19, new relative accuracy: 0.746508\n",
      "Pruned tree to level: 20, new relative accuracy: 0.739693\n",
      "Pruned tree to level: 21, new relative accuracy: 0.705963\n",
      "Pruned tree to level: 22, new relative accuracy: 0.703578\n",
      "Pruned tree to level: 23, new relative accuracy: 0.700511\n",
      "Pruned tree to level: 24, new relative accuracy: 0.700511\n",
      "Pruned tree to level: 25, new relative accuracy: 0.691312\n",
      "Pruned tree to level: 26, new relative accuracy: 0.653492\n",
      "(\"Illegal level %d' % level\", 27)\n",
      "Initial accuracy of model on generalized data, relative to original model predictions (base generalization derived from tree, before improvements): 0.808859\n",
      "Improving generalizations\n",
      "Pruned tree to level: 1, new relative accuracy: 0.808518\n",
      "Pruned tree to level: 2, new relative accuracy: 0.807836\n",
      "Pruned tree to level: 3, new relative accuracy: 0.807836\n",
      "Pruned tree to level: 4, new relative accuracy: 0.806474\n",
      "Pruned tree to level: 5, new relative accuracy: 0.806133\n",
      "Pruned tree to level: 6, new relative accuracy: 0.801363\n",
      "Pruned tree to level: 7, new relative accuracy: 0.798637\n",
      "Pruned tree to level: 8, new relative accuracy: 0.794889\n",
      "Pruned tree to level: 9, new relative accuracy: 0.790119\n",
      "Pruned tree to level: 10, new relative accuracy: 0.779216\n",
      "Pruned tree to level: 11, new relative accuracy: 0.776491\n",
      "Pruned tree to level: 12, new relative accuracy: 0.772743\n",
      "Pruned tree to level: 13, new relative accuracy: 0.755026\n",
      "Pruned tree to level: 14, new relative accuracy: 0.762862\n",
      "Pruned tree to level: 15, new relative accuracy: 0.755366\n",
      "Pruned tree to level: 16, new relative accuracy: 0.752981\n",
      "Pruned tree to level: 17, new relative accuracy: 0.751959\n",
      "Pruned tree to level: 18, new relative accuracy: 0.747871\n",
      "Pruned tree to level: 19, new relative accuracy: 0.746508\n",
      "Pruned tree to level: 20, new relative accuracy: 0.739693\n",
      "Pruned tree to level: 21, new relative accuracy: 0.705963\n",
      "Pruned tree to level: 22, new relative accuracy: 0.703578\n",
      "Pruned tree to level: 23, new relative accuracy: 0.700511\n",
      "Pruned tree to level: 24, new relative accuracy: 0.700511\n",
      "Pruned tree to level: 25, new relative accuracy: 0.691312\n",
      "Pruned tree to level: 26, new relative accuracy: 0.653492\n",
      "(\"Illegal level %d' % level\", 27)\n",
      "Initial accuracy of model on generalized data, relative to original model predictions (base generalization derived from tree, before improvements): 0.808859\n",
      "Improving generalizations\n",
      "Pruned tree to level: 1, new relative accuracy: 0.808518\n",
      "Pruned tree to level: 2, new relative accuracy: 0.807836\n",
      "Pruned tree to level: 3, new relative accuracy: 0.807836\n",
      "Pruned tree to level: 4, new relative accuracy: 0.806474\n",
      "Pruned tree to level: 5, new relative accuracy: 0.806133\n",
      "Pruned tree to level: 6, new relative accuracy: 0.801363\n",
      "Pruned tree to level: 7, new relative accuracy: 0.798637\n",
      "Pruned tree to level: 8, new relative accuracy: 0.794889\n",
      "Pruned tree to level: 9, new relative accuracy: 0.790119\n",
      "Pruned tree to level: 10, new relative accuracy: 0.779216\n",
      "Pruned tree to level: 11, new relative accuracy: 0.776491\n",
      "Pruned tree to level: 12, new relative accuracy: 0.772743\n",
      "Pruned tree to level: 13, new relative accuracy: 0.755026\n",
      "Pruned tree to level: 14, new relative accuracy: 0.762862\n",
      "Pruned tree to level: 15, new relative accuracy: 0.755366\n",
      "Pruned tree to level: 16, new relative accuracy: 0.752981\n",
      "Pruned tree to level: 17, new relative accuracy: 0.751959\n",
      "Pruned tree to level: 18, new relative accuracy: 0.747871\n",
      "Pruned tree to level: 19, new relative accuracy: 0.746508\n",
      "Pruned tree to level: 20, new relative accuracy: 0.739693\n",
      "Pruned tree to level: 21, new relative accuracy: 0.705963\n",
      "Pruned tree to level: 22, new relative accuracy: 0.703578\n",
      "Pruned tree to level: 23, new relative accuracy: 0.700511\n",
      "Pruned tree to level: 24, new relative accuracy: 0.700511\n",
      "Pruned tree to level: 25, new relative accuracy: 0.691312\n",
      "Pruned tree to level: 26, new relative accuracy: 0.653492\n",
      "(\"Illegal level %d' % level\", 27)\n",
      "Initial accuracy of model on generalized data, relative to original model predictions (base generalization derived from tree, before improvements): 0.808859\n",
      "Improving generalizations\n",
      "Pruned tree to level: 1, new relative accuracy: 0.808518\n",
      "Pruned tree to level: 2, new relative accuracy: 0.807836\n",
      "Pruned tree to level: 3, new relative accuracy: 0.807836\n",
      "Pruned tree to level: 4, new relative accuracy: 0.806474\n",
      "Pruned tree to level: 5, new relative accuracy: 0.806133\n",
      "Pruned tree to level: 6, new relative accuracy: 0.801363\n",
      "Pruned tree to level: 7, new relative accuracy: 0.798637\n",
      "Pruned tree to level: 8, new relative accuracy: 0.794889\n",
      "Pruned tree to level: 9, new relative accuracy: 0.790119\n",
      "Pruned tree to level: 10, new relative accuracy: 0.779216\n",
      "Pruned tree to level: 11, new relative accuracy: 0.776491\n",
      "Pruned tree to level: 12, new relative accuracy: 0.772743\n",
      "Pruned tree to level: 13, new relative accuracy: 0.755026\n",
      "Pruned tree to level: 14, new relative accuracy: 0.762862\n",
      "Pruned tree to level: 15, new relative accuracy: 0.755366\n",
      "Pruned tree to level: 16, new relative accuracy: 0.752981\n",
      "Pruned tree to level: 17, new relative accuracy: 0.751959\n",
      "Pruned tree to level: 18, new relative accuracy: 0.747871\n",
      "Pruned tree to level: 19, new relative accuracy: 0.746508\n",
      "Pruned tree to level: 20, new relative accuracy: 0.739693\n",
      "Pruned tree to level: 21, new relative accuracy: 0.705963\n",
      "Pruned tree to level: 22, new relative accuracy: 0.703578\n",
      "Pruned tree to level: 23, new relative accuracy: 0.700511\n",
      "Pruned tree to level: 24, new relative accuracy: 0.700511\n",
      "Pruned tree to level: 25, new relative accuracy: 0.691312\n",
      "Pruned tree to level: 26, new relative accuracy: 0.653492\n",
      "(\"Illegal level %d' % level\", 27)\n",
      "Initial accuracy of model on generalized data, relative to original model predictions (base generalization derived from tree, before improvements): 0.808859\n",
      "Improving generalizations\n",
      "Pruned tree to level: 1, new relative accuracy: 0.808518\n",
      "Pruned tree to level: 2, new relative accuracy: 0.807836\n",
      "Pruned tree to level: 3, new relative accuracy: 0.807836\n",
      "Pruned tree to level: 4, new relative accuracy: 0.806474\n",
      "Pruned tree to level: 5, new relative accuracy: 0.806133\n",
      "Pruned tree to level: 6, new relative accuracy: 0.801363\n",
      "Pruned tree to level: 7, new relative accuracy: 0.798637\n",
      "Pruned tree to level: 8, new relative accuracy: 0.794889\n",
      "Pruned tree to level: 9, new relative accuracy: 0.790119\n",
      "Pruned tree to level: 10, new relative accuracy: 0.779216\n",
      "Pruned tree to level: 11, new relative accuracy: 0.776491\n",
      "Pruned tree to level: 12, new relative accuracy: 0.772743\n",
      "Pruned tree to level: 13, new relative accuracy: 0.755026\n",
      "Pruned tree to level: 14, new relative accuracy: 0.762862\n",
      "Pruned tree to level: 15, new relative accuracy: 0.755366\n",
      "Pruned tree to level: 16, new relative accuracy: 0.752981\n",
      "Pruned tree to level: 17, new relative accuracy: 0.751959\n",
      "Pruned tree to level: 18, new relative accuracy: 0.747871\n",
      "Pruned tree to level: 19, new relative accuracy: 0.746508\n",
      "Pruned tree to level: 20, new relative accuracy: 0.739693\n",
      "Pruned tree to level: 21, new relative accuracy: 0.705963\n",
      "Pruned tree to level: 22, new relative accuracy: 0.703578\n",
      "Pruned tree to level: 23, new relative accuracy: 0.700511\n",
      "Pruned tree to level: 24, new relative accuracy: 0.700511\n",
      "Pruned tree to level: 25, new relative accuracy: 0.691312\n",
      "Pruned tree to level: 26, new relative accuracy: 0.653492\n",
      "(\"Illegal level %d' % level\", 27)\n",
      "Initial accuracy of model on generalized data, relative to original model predictions (base generalization derived from tree, before improvements): 0.808859\n",
      "Improving generalizations\n",
      "Pruned tree to level: 1, new relative accuracy: 0.808518\n",
      "Pruned tree to level: 2, new relative accuracy: 0.807836\n",
      "Pruned tree to level: 3, new relative accuracy: 0.807836\n",
      "Pruned tree to level: 4, new relative accuracy: 0.806474\n",
      "Pruned tree to level: 5, new relative accuracy: 0.806133\n",
      "Pruned tree to level: 6, new relative accuracy: 0.801363\n",
      "Pruned tree to level: 7, new relative accuracy: 0.798637\n",
      "Pruned tree to level: 8, new relative accuracy: 0.794889\n",
      "Pruned tree to level: 9, new relative accuracy: 0.790119\n",
      "Pruned tree to level: 10, new relative accuracy: 0.779216\n",
      "Pruned tree to level: 11, new relative accuracy: 0.776491\n",
      "Pruned tree to level: 12, new relative accuracy: 0.772743\n",
      "Pruned tree to level: 13, new relative accuracy: 0.755026\n",
      "Pruned tree to level: 14, new relative accuracy: 0.762862\n",
      "Pruned tree to level: 15, new relative accuracy: 0.755366\n",
      "Pruned tree to level: 16, new relative accuracy: 0.752981\n",
      "Pruned tree to level: 17, new relative accuracy: 0.751959\n",
      "Pruned tree to level: 18, new relative accuracy: 0.747871\n",
      "Pruned tree to level: 19, new relative accuracy: 0.746508\n",
      "Pruned tree to level: 20, new relative accuracy: 0.739693\n",
      "Pruned tree to level: 21, new relative accuracy: 0.705963\n",
      "Pruned tree to level: 22, new relative accuracy: 0.703578\n",
      "Pruned tree to level: 23, new relative accuracy: 0.700511\n",
      "Pruned tree to level: 24, new relative accuracy: 0.700511\n",
      "Pruned tree to level: 25, new relative accuracy: 0.691312\n",
      "Pruned tree to level: 26, new relative accuracy: 0.653492\n",
      "(\"Illegal level %d' % level\", 27)\n",
      "Initial accuracy of model on generalized data, relative to original model predictions (base generalization derived from tree, before improvements): 0.808859\n",
      "Improving generalizations\n",
      "Pruned tree to level: 1, new relative accuracy: 0.808518\n",
      "Pruned tree to level: 2, new relative accuracy: 0.807836\n",
      "Pruned tree to level: 3, new relative accuracy: 0.807836\n",
      "Pruned tree to level: 4, new relative accuracy: 0.806474\n",
      "Pruned tree to level: 5, new relative accuracy: 0.806133\n",
      "Pruned tree to level: 6, new relative accuracy: 0.801363\n",
      "Pruned tree to level: 7, new relative accuracy: 0.798637\n",
      "Pruned tree to level: 8, new relative accuracy: 0.794889\n",
      "Pruned tree to level: 9, new relative accuracy: 0.790119\n",
      "Pruned tree to level: 10, new relative accuracy: 0.779216\n",
      "Pruned tree to level: 11, new relative accuracy: 0.776491\n",
      "Pruned tree to level: 12, new relative accuracy: 0.772743\n",
      "Pruned tree to level: 13, new relative accuracy: 0.755026\n",
      "Pruned tree to level: 14, new relative accuracy: 0.762862\n",
      "Pruned tree to level: 15, new relative accuracy: 0.755366\n",
      "Pruned tree to level: 16, new relative accuracy: 0.752981\n",
      "Pruned tree to level: 17, new relative accuracy: 0.751959\n",
      "Pruned tree to level: 18, new relative accuracy: 0.747871\n",
      "Pruned tree to level: 19, new relative accuracy: 0.746508\n",
      "Pruned tree to level: 20, new relative accuracy: 0.739693\n",
      "Pruned tree to level: 21, new relative accuracy: 0.705963\n",
      "Pruned tree to level: 22, new relative accuracy: 0.703578\n",
      "Pruned tree to level: 23, new relative accuracy: 0.700511\n",
      "Pruned tree to level: 24, new relative accuracy: 0.700511\n",
      "Pruned tree to level: 25, new relative accuracy: 0.691312\n",
      "Pruned tree to level: 26, new relative accuracy: 0.653492\n",
      "(\"Illegal level %d' % level\", 27)\n",
      "Initial accuracy of model on generalized data, relative to original model predictions (base generalization derived from tree, before improvements): 0.808859\n",
      "Improving generalizations\n",
      "Pruned tree to level: 1, new relative accuracy: 0.808518\n",
      "Pruned tree to level: 2, new relative accuracy: 0.807836\n",
      "Pruned tree to level: 3, new relative accuracy: 0.807836\n",
      "Pruned tree to level: 4, new relative accuracy: 0.806474\n",
      "Pruned tree to level: 5, new relative accuracy: 0.806133\n",
      "Pruned tree to level: 6, new relative accuracy: 0.801363\n",
      "Pruned tree to level: 7, new relative accuracy: 0.798637\n",
      "Pruned tree to level: 8, new relative accuracy: 0.794889\n",
      "Pruned tree to level: 9, new relative accuracy: 0.790119\n",
      "Pruned tree to level: 10, new relative accuracy: 0.779216\n",
      "Pruned tree to level: 11, new relative accuracy: 0.776491\n",
      "Pruned tree to level: 12, new relative accuracy: 0.772743\n",
      "Pruned tree to level: 13, new relative accuracy: 0.755026\n",
      "Pruned tree to level: 14, new relative accuracy: 0.762862\n",
      "Pruned tree to level: 15, new relative accuracy: 0.755366\n",
      "Pruned tree to level: 16, new relative accuracy: 0.752981\n",
      "Pruned tree to level: 17, new relative accuracy: 0.751959\n",
      "Pruned tree to level: 18, new relative accuracy: 0.747871\n",
      "Pruned tree to level: 19, new relative accuracy: 0.746508\n",
      "Pruned tree to level: 20, new relative accuracy: 0.739693\n",
      "Pruned tree to level: 21, new relative accuracy: 0.705963\n",
      "Pruned tree to level: 22, new relative accuracy: 0.703578\n",
      "Pruned tree to level: 23, new relative accuracy: 0.700511\n",
      "Pruned tree to level: 24, new relative accuracy: 0.700511\n"
     ]
    },
    {
     "data": {
      "text/plain": "{'Random Forest': [generalizationResults(train_relative_accuracy=0.6536259541984732, train_absolute_accuracy=0.6359051254089422, test_relative_accuracy=0.6603966469024739, test_absolute_accuracy=0.6358617869556328, ncp=1.0),\n  generalizationResults(train_relative_accuracy=0.6536259541984732, train_absolute_accuracy=0.6359051254089422, test_relative_accuracy=0.6603966469024739, test_absolute_accuracy=0.6358617869556328, ncp=1.0),\n  generalizationResults(train_relative_accuracy=0.6536259541984732, train_absolute_accuracy=0.6359051254089422, test_relative_accuracy=0.6603966469024739, test_absolute_accuracy=0.6358617869556328, ncp=1.0),\n  generalizationResults(train_relative_accuracy=0.6536259541984732, train_absolute_accuracy=0.6359051254089422, test_relative_accuracy=0.6603966469024739, test_absolute_accuracy=0.6358617869556328, ncp=1.0),\n  generalizationResults(train_relative_accuracy=0.6536259541984732, train_absolute_accuracy=0.6359051254089422, test_relative_accuracy=0.6603966469024739, test_absolute_accuracy=0.6358617869556328, ncp=1.0),\n  generalizationResults(train_relative_accuracy=0.6536259541984732, train_absolute_accuracy=0.6359051254089422, test_relative_accuracy=0.6603966469024739, test_absolute_accuracy=0.6358617869556328, ncp=1.0),\n  generalizationResults(train_relative_accuracy=0.6536259541984732, train_absolute_accuracy=0.6359051254089422, test_relative_accuracy=0.6603966469024739, test_absolute_accuracy=0.6358617869556328, ncp=1.0),\n  generalizationResults(train_relative_accuracy=0.9573336968375137, train_absolute_accuracy=0.647082878953108, test_relative_accuracy=0.9599263954201595, test_absolute_accuracy=0.6577387037415662, ncp=0.9166666666666667)]}"
     },
     "execution_count": 7,
     "metadata": {},
     "output_type": "execute_result"
    }
   ],
   "source": [
    "    def single_dt_maker(*args, **kwargs):\n",
    "        return GeneralizeToRepresentative(*args, **kwargs, encoder=gss_data.encoder)\n",
    "    target_accuracies = np.arange(0, 0.8, 0.1)\n",
    "    single_dt_benchmark = Benchmark(\n",
    "        generalizer=GeneralizeToRepresentative,\n",
    "        train_set=gss_data.unencoded_data.generalizer_train,\n",
    "        test_set=gss_data.unencoded_data.generalizer_validation,\n",
    "        models=target_models,\n",
    "        transformer=gss_data.encoder,\n",
    "        target_accuracies=target_accuracies,\n",
    "        features=gss_data.all_features,\n",
    "        categorical_features=gss_data.categorical_features,\n",
    "    )\n",
    "    single_dt_benchmark_result = single_dt_benchmark.run()\n",
    "    single_dt_benchmark_result"
   ],
   "metadata": {
    "collapsed": false,
    "pycharm": {
     "name": "#%%\n"
    }
   }
  },
  {
   "cell_type": "code",
   "execution_count": 52,
   "outputs": [
    {
     "name": "stdout",
     "output_type": "stream",
     "text": [
      "Random Forest results:\n"
     ]
    },
    {
     "data": {
      "text/plain": "<Figure size 576x288 with 2 Axes>",
      "image/png": "[encoded data removed]"
     },
     "metadata": {
      "needs_background": "light"
     },
     "output_type": "display_data"
    }
   ],
   "source": [
    "sliced_shap_benchmark_result = {}\n",
    "for model in shap_benchmark_result:\n",
    "    sliced_shap_benchmark_result[model] = shap_benchmark_result[model][:8]\n",
    "plotter = Plotter(results={\"Shap Minimizer\": sliced_shap_benchmark_result, \"Original Minimizer\": single_dt_benchmark_result}, target_accuracies=target_accuracies, dataset=\"GSS\")\n",
    "for model in target_models:\n",
    "    print(f\"{model} results:\")\n",
    "    plotter.plot(model)\n",
    "# print(single_dt_benchmark_result)"
   ],
   "metadata": {
    "collapsed": false,
    "pycharm": {
     "name": "#%%\n"
    }
   }
  },
  {
   "cell_type": "code",
   "execution_count": 35,
   "outputs": [
    {
     "name": "stdout",
     "output_type": "stream",
     "text": [
      "10\n"
     ]
    }
   ],
   "source": [],
   "metadata": {
    "collapsed": false,
    "pycharm": {
     "name": "#%%\n"
    }
   }
  }
 ],
 "metadata": {
  "kernelspec": {
   "display_name": "Python 3",
   "language": "python",
   "name": "python3"
  },
  "language_info": {
   "codemirror_mode": {
    "name": "ipython",
    "version": 2
   },
   "file_extension": ".py",
   "mimetype": "text/x-python",
   "name": "python",
   "nbconvert_exporter": "python",
   "pygments_lexer": "ipython2",
   "version": "2.7.6"
  }
 },
 "nbformat": 4,
 "nbformat_minor": 0
}